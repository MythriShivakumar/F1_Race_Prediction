{
  "nbformat": 4,
  "nbformat_minor": 0,
  "metadata": {
    "colab": {
      "provenance": []
    },
    "kernelspec": {
      "name": "python3",
      "display_name": "Python 3"
    },
    "language_info": {
      "name": "python"
    }
  },
  "cells": [
    {
      "cell_type": "code",
      "execution_count": 21,
      "metadata": {
        "colab": {
          "base_uri": "https://localhost:8080/"
        },
        "id": "BfKFSULmrt9g",
        "outputId": "0872690d-c9da-4f41-9d05-1e7c354fbd88"
      },
      "outputs": [
        {
          "output_type": "stream",
          "name": "stdout",
          "text": [
            "Requirement already satisfied: fastf1 in /usr/local/lib/python3.11/dist-packages (3.5.3)\n",
            "Requirement already satisfied: tabulate in /usr/local/lib/python3.11/dist-packages (0.9.0)\n",
            "Requirement already satisfied: xgboost in /usr/local/lib/python3.11/dist-packages (2.1.4)\n",
            "Requirement already satisfied: matplotlib<4.0.0,>=3.5.1 in /usr/local/lib/python3.11/dist-packages (from fastf1) (3.10.0)\n",
            "Requirement already satisfied: numpy<3.0.0,>=1.23.1 in /usr/local/lib/python3.11/dist-packages (from fastf1) (2.0.2)\n",
            "Requirement already satisfied: pandas<3.0.0,>=1.4.1 in /usr/local/lib/python3.11/dist-packages (from fastf1) (2.2.2)\n",
            "Requirement already satisfied: python-dateutil in /usr/local/lib/python3.11/dist-packages (from fastf1) (2.8.2)\n",
            "Requirement already satisfied: rapidfuzz in /usr/local/lib/python3.11/dist-packages (from fastf1) (3.13.0)\n",
            "Requirement already satisfied: requests-cache>=1.0.0 in /usr/local/lib/python3.11/dist-packages (from fastf1) (1.2.1)\n",
            "Requirement already satisfied: requests>=2.28.1 in /usr/local/lib/python3.11/dist-packages (from fastf1) (2.32.3)\n",
            "Requirement already satisfied: scipy<2.0.0,>=1.8.1 in /usr/local/lib/python3.11/dist-packages (from fastf1) (1.14.1)\n",
            "Requirement already satisfied: timple>=0.1.6 in /usr/local/lib/python3.11/dist-packages (from fastf1) (0.1.8)\n",
            "Requirement already satisfied: websockets<14,>=10.3 in /usr/local/lib/python3.11/dist-packages (from fastf1) (13.1)\n",
            "Requirement already satisfied: nvidia-nccl-cu12 in /usr/local/lib/python3.11/dist-packages (from xgboost) (2.21.5)\n",
            "Requirement already satisfied: contourpy>=1.0.1 in /usr/local/lib/python3.11/dist-packages (from matplotlib<4.0.0,>=3.5.1->fastf1) (1.3.1)\n",
            "Requirement already satisfied: cycler>=0.10 in /usr/local/lib/python3.11/dist-packages (from matplotlib<4.0.0,>=3.5.1->fastf1) (0.12.1)\n",
            "Requirement already satisfied: fonttools>=4.22.0 in /usr/local/lib/python3.11/dist-packages (from matplotlib<4.0.0,>=3.5.1->fastf1) (4.57.0)\n",
            "Requirement already satisfied: kiwisolver>=1.3.1 in /usr/local/lib/python3.11/dist-packages (from matplotlib<4.0.0,>=3.5.1->fastf1) (1.4.8)\n",
            "Requirement already satisfied: packaging>=20.0 in /usr/local/lib/python3.11/dist-packages (from matplotlib<4.0.0,>=3.5.1->fastf1) (24.2)\n",
            "Requirement already satisfied: pillow>=8 in /usr/local/lib/python3.11/dist-packages (from matplotlib<4.0.0,>=3.5.1->fastf1) (11.1.0)\n",
            "Requirement already satisfied: pyparsing>=2.3.1 in /usr/local/lib/python3.11/dist-packages (from matplotlib<4.0.0,>=3.5.1->fastf1) (3.2.3)\n",
            "Requirement already satisfied: pytz>=2020.1 in /usr/local/lib/python3.11/dist-packages (from pandas<3.0.0,>=1.4.1->fastf1) (2025.2)\n",
            "Requirement already satisfied: tzdata>=2022.7 in /usr/local/lib/python3.11/dist-packages (from pandas<3.0.0,>=1.4.1->fastf1) (2025.2)\n",
            "Requirement already satisfied: six>=1.5 in /usr/local/lib/python3.11/dist-packages (from python-dateutil->fastf1) (1.17.0)\n",
            "Requirement already satisfied: charset-normalizer<4,>=2 in /usr/local/lib/python3.11/dist-packages (from requests>=2.28.1->fastf1) (3.4.1)\n",
            "Requirement already satisfied: idna<4,>=2.5 in /usr/local/lib/python3.11/dist-packages (from requests>=2.28.1->fastf1) (3.10)\n",
            "Requirement already satisfied: urllib3<3,>=1.21.1 in /usr/local/lib/python3.11/dist-packages (from requests>=2.28.1->fastf1) (2.3.0)\n",
            "Requirement already satisfied: certifi>=2017.4.17 in /usr/local/lib/python3.11/dist-packages (from requests>=2.28.1->fastf1) (2025.1.31)\n",
            "Requirement already satisfied: attrs>=21.2 in /usr/local/lib/python3.11/dist-packages (from requests-cache>=1.0.0->fastf1) (25.3.0)\n",
            "Requirement already satisfied: cattrs>=22.2 in /usr/local/lib/python3.11/dist-packages (from requests-cache>=1.0.0->fastf1) (24.1.3)\n",
            "Requirement already satisfied: platformdirs>=2.5 in /usr/local/lib/python3.11/dist-packages (from requests-cache>=1.0.0->fastf1) (4.3.7)\n",
            "Requirement already satisfied: url-normalize>=1.4 in /usr/local/lib/python3.11/dist-packages (from requests-cache>=1.0.0->fastf1) (2.2.0)\n"
          ]
        }
      ],
      "source": [
        "# Install the essentials\n",
        "!pip install fastf1 tabulate xgboost"
      ]
    },
    {
      "cell_type": "code",
      "source": [
        "import os\n",
        "import fastf1\n",
        "import pandas as pd\n",
        "import numpy as np\n",
        "from xgboost import XGBClassifier\n",
        "from xgboost import XGBRegressor\n",
        "from tabulate import tabulate"
      ],
      "metadata": {
        "id": "JKap8nelr4X0"
      },
      "execution_count": 22,
      "outputs": []
    },
    {
      "cell_type": "code",
      "source": [
        "cache_dir = \"/content/bahrain_f1_cache\"\n",
        "if not os.path.exists(cache_dir):\n",
        "    os.makedirs(cache_dir)\n",
        "fastf1.Cache.enable_cache(cache_dir)"
      ],
      "metadata": {
        "id": "BGJWlCiMr43l"
      },
      "execution_count": 23,
      "outputs": []
    },
    {
      "cell_type": "code",
      "source": [
        "# Full 2025 grid with confirmed driver numbers\n",
        "grid_2025_full = pd.DataFrame({\n",
        "    \"Driver\": [\"Lando Norris\", \"Oscar Piastri\", \"Max Verstappen\", \"Lewis Hamilton\",\n",
        "               \"Charles Leclerc\", \"Alex Albon\", \"Carlos Sainz\", \"George Russell\",\n",
        "               \"Fernando Alonso\", \"Lance Stroll\", \"Pierre Gasly\", \"Yuki Tsunoda\",\n",
        "               \"Esteban Ocon\", \"Nico Hulkenberg\", \"Kimi Antonelli\", \"Isack Hadjar\",\n",
        "               \"Ollie Bearman\", \"Liam Lawson\", \"Jack Doohan\", \"Gabriel Bortoleto\"],\n",
        "    \"DriverCode\": [\"NOR\", \"PIA\", \"VER\", \"HAM\", \"LEC\", \"ALB\", \"SAI\", \"RUS\",\n",
        "                   \"ALO\", \"STR\", \"GAS\", \"TSU\", \"OCO\", \"HUL\", \"ANT\", \"HAD\",\n",
        "                   \"BEA\", \"LAW\", \"DOO\", \"BOR\"],\n",
        "    \"DriverNumber\": ['4', '81', '1', '44', '16', '23', '55', '63',\n",
        "                     '14', '18', '10', '22', '31', '27', '12', '6',\n",
        "                     '87', '30', '7', '5']\n",
        "}).astype({\"DriverNumber\": str})\n",
        "\n",
        "# Initialize data\n",
        "data_2025_full = grid_2025_full.copy()"
      ],
      "metadata": {
        "id": "r_jy5R-hsfGd"
      },
      "execution_count": 24,
      "outputs": []
    },
    {
      "cell_type": "code",
      "source": [
        "# Load 2024 Bahrain GP data\n",
        "session = fastf1.get_session(2024, 'Bahrain', 'R')\n",
        "session.load()\n",
        "results = session.results[[\"Abbreviation\", \"Position\"]].copy()\n",
        "results.rename(columns={\"Abbreviation\": \"DriverCode\"}, inplace=True)\n",
        "results[\"Bahrain2024Rank\"] = pd.to_numeric(results[\"Position\"], errors='coerce').rank(method=\"first\").astype(int)\n",
        "data_2025_full = data_2025_full.merge(results[[\"DriverCode\", \"Bahrain2024Rank\"]], on=\"DriverCode\", how=\"left\")"
      ],
      "metadata": {
        "colab": {
          "base_uri": "https://localhost:8080/"
        },
        "id": "nwuBrhFaspT2",
        "outputId": "9cf6d863-220c-4362-91f3-d3364db2021a"
      },
      "execution_count": 25,
      "outputs": [
        {
          "output_type": "stream",
          "name": "stderr",
          "text": [
            "core           INFO \tLoading data for Bahrain Grand Prix - Race [v3.5.3]\n",
            "INFO:fastf1.fastf1.core:Loading data for Bahrain Grand Prix - Race [v3.5.3]\n",
            "req            INFO \tUsing cached data for session_info\n",
            "INFO:fastf1.fastf1.req:Using cached data for session_info\n",
            "req            INFO \tUsing cached data for driver_info\n",
            "INFO:fastf1.fastf1.req:Using cached data for driver_info\n",
            "req            INFO \tUsing cached data for session_status_data\n",
            "INFO:fastf1.fastf1.req:Using cached data for session_status_data\n",
            "req            INFO \tUsing cached data for lap_count\n",
            "INFO:fastf1.fastf1.req:Using cached data for lap_count\n",
            "req            INFO \tUsing cached data for track_status_data\n",
            "INFO:fastf1.fastf1.req:Using cached data for track_status_data\n",
            "req            INFO \tUsing cached data for _extended_timing_data\n",
            "INFO:fastf1.fastf1.req:Using cached data for _extended_timing_data\n",
            "req            INFO \tUsing cached data for timing_app_data\n",
            "INFO:fastf1.fastf1.req:Using cached data for timing_app_data\n",
            "core           INFO \tProcessing timing data...\n",
            "INFO:fastf1.fastf1.core:Processing timing data...\n",
            "req            INFO \tUsing cached data for car_data\n",
            "INFO:fastf1.fastf1.req:Using cached data for car_data\n",
            "req            INFO \tUsing cached data for position_data\n",
            "INFO:fastf1.fastf1.req:Using cached data for position_data\n",
            "req            INFO \tUsing cached data for weather_data\n",
            "INFO:fastf1.fastf1.req:Using cached data for weather_data\n",
            "req            INFO \tUsing cached data for race_control_messages\n",
            "INFO:fastf1.fastf1.req:Using cached data for race_control_messages\n",
            "core           INFO \tFinished loading data for 20 drivers: ['1', '11', '55', '16', '63', '4', '44', '81', '14', '18', '24', '20', '3', '22', '23', '27', '31', '10', '77', '2']\n",
            "INFO:fastf1.fastf1.core:Finished loading data for 20 drivers: ['1', '11', '55', '16', '63', '4', '44', '81', '14', '18', '24', '20', '3', '22', '23', '27', '31', '10', '77', '2']\n"
          ]
        }
      ]
    },
    {
      "cell_type": "code",
      "source": [
        "# 2025 Bahrain Starting Grid (April 12, 2025, post-penalties)\n",
        "quali_2025 = pd.DataFrame({\n",
        "    \"Driver\": [\"Oscar Piastri\", \"Charles Leclerc\", \"George Russell\", \"Pierre Gasly\",\n",
        "               \"Kimi Antonelli\", \"Lando Norris\", \"Max Verstappen\", \"Carlos Sainz\",\n",
        "               \"Lewis Hamilton\", \"Yuki Tsunoda\", \"Jack Doohan\", \"Isack Hadjar\",\n",
        "               \"Fernando Alonso\", \"Esteban Ocon\", \"Alex Albon\", \"Nico Hulkenberg\",\n",
        "               \"Liam Lawson\", \"Gabriel Bortoleto\", \"Lance Stroll\", \"Ollie Bearman\"],\n",
        "    \"Bahrain2025QualiRank\": [1, 2, 3, 4, 5, 6, 7, 8, 9, 10, 11, 12, 13, 14, 15, 16, 17, 18, 19, 20]\n",
        "})\n",
        "data_2025_full = data_2025_full.merge(quali_2025[[\"Driver\", \"Bahrain2025QualiRank\"]], on=\"Driver\", how=\"left\")"
      ],
      "metadata": {
        "id": "vljbCUkBsp17"
      },
      "execution_count": 26,
      "outputs": []
    },
    {
      "cell_type": "code",
      "source": [
        "# 2025 Season Races (Australia, China, Japan)\n",
        "races_2025 = [\"Australia\", \"China\", \"Japanese\"]\n",
        "for race in races_2025:\n",
        "    session = fastf1.get_session(2025, race, 'R')\n",
        "    session.load()\n",
        "    results = session.results[[\"Abbreviation\", \"Position\"]].copy()\n",
        "    results.rename(columns={\"Abbreviation\": \"DriverCode\"}, inplace=True)\n",
        "    results[f\"{race}Rank\"] = pd.to_numeric(results[\"Position\"], errors='coerce').rank(method=\"first\").astype(int)\n",
        "    data_2025_full = data_2025_full.merge(results[[\"DriverCode\", f\"{race}Rank\"]], on=\"DriverCode\", how=\"left\")\n",
        "data_2025_full[\"Season2025AvgRank\"] = data_2025_full[[\"AustraliaRank\", \"ChinaRank\", \"JapaneseRank\"]].mean(axis=1)"
      ],
      "metadata": {
        "colab": {
          "base_uri": "https://localhost:8080/"
        },
        "id": "YFW0Gd7gsuiu",
        "outputId": "b6c707ca-ccc0-4410-a109-f723cb32d08a"
      },
      "execution_count": 27,
      "outputs": [
        {
          "output_type": "stream",
          "name": "stderr",
          "text": [
            "core           INFO \tLoading data for Australian Grand Prix - Race [v3.5.3]\n",
            "INFO:fastf1.fastf1.core:Loading data for Australian Grand Prix - Race [v3.5.3]\n",
            "req            INFO \tUsing cached data for session_info\n",
            "INFO:fastf1.fastf1.req:Using cached data for session_info\n",
            "req            INFO \tUsing cached data for driver_info\n",
            "INFO:fastf1.fastf1.req:Using cached data for driver_info\n",
            "req            INFO \tUsing cached data for session_status_data\n",
            "INFO:fastf1.fastf1.req:Using cached data for session_status_data\n",
            "req            INFO \tUsing cached data for lap_count\n",
            "INFO:fastf1.fastf1.req:Using cached data for lap_count\n",
            "req            INFO \tUsing cached data for track_status_data\n",
            "INFO:fastf1.fastf1.req:Using cached data for track_status_data\n",
            "req            INFO \tUsing cached data for _extended_timing_data\n",
            "INFO:fastf1.fastf1.req:Using cached data for _extended_timing_data\n",
            "req            INFO \tUsing cached data for timing_app_data\n",
            "INFO:fastf1.fastf1.req:Using cached data for timing_app_data\n",
            "core           INFO \tProcessing timing data...\n",
            "INFO:fastf1.fastf1.core:Processing timing data...\n",
            "req            INFO \tUsing cached data for car_data\n",
            "INFO:fastf1.fastf1.req:Using cached data for car_data\n",
            "req            INFO \tUsing cached data for position_data\n",
            "INFO:fastf1.fastf1.req:Using cached data for position_data\n",
            "req            INFO \tUsing cached data for weather_data\n",
            "INFO:fastf1.fastf1.req:Using cached data for weather_data\n",
            "req            INFO \tUsing cached data for race_control_messages\n",
            "INFO:fastf1.fastf1.req:Using cached data for race_control_messages\n",
            "core        WARNING \tDriver 4 completed the race distance 00:00.022000 before the recorded end of the session.\n",
            "WARNING:fastf1.fastf1.core:Driver 4 completed the race distance 00:00.022000 before the recorded end of the session.\n",
            "core           INFO \tFinished loading data for 20 drivers: ['4', '1', '63', '12', '23', '18', '27', '16', '81', '44', '10', '22', '31', '87', '30', '5', '14', '55', '7', '6']\n",
            "INFO:fastf1.fastf1.core:Finished loading data for 20 drivers: ['4', '1', '63', '12', '23', '18', '27', '16', '81', '44', '10', '22', '31', '87', '30', '5', '14', '55', '7', '6']\n",
            "core           INFO \tLoading data for Chinese Grand Prix - Race [v3.5.3]\n",
            "INFO:fastf1.fastf1.core:Loading data for Chinese Grand Prix - Race [v3.5.3]\n",
            "req            INFO \tUsing cached data for session_info\n",
            "INFO:fastf1.fastf1.req:Using cached data for session_info\n",
            "req            INFO \tUsing cached data for driver_info\n",
            "INFO:fastf1.fastf1.req:Using cached data for driver_info\n",
            "req            INFO \tUsing cached data for session_status_data\n",
            "INFO:fastf1.fastf1.req:Using cached data for session_status_data\n",
            "req            INFO \tUsing cached data for lap_count\n",
            "INFO:fastf1.fastf1.req:Using cached data for lap_count\n",
            "req            INFO \tUsing cached data for track_status_data\n",
            "INFO:fastf1.fastf1.req:Using cached data for track_status_data\n",
            "req            INFO \tUsing cached data for _extended_timing_data\n",
            "INFO:fastf1.fastf1.req:Using cached data for _extended_timing_data\n",
            "req            INFO \tUsing cached data for timing_app_data\n",
            "INFO:fastf1.fastf1.req:Using cached data for timing_app_data\n",
            "core           INFO \tProcessing timing data...\n",
            "INFO:fastf1.fastf1.core:Processing timing data...\n",
            "req            INFO \tUsing cached data for car_data\n",
            "INFO:fastf1.fastf1.req:Using cached data for car_data\n",
            "req            INFO \tUsing cached data for position_data\n",
            "INFO:fastf1.fastf1.req:Using cached data for position_data\n",
            "req            INFO \tUsing cached data for weather_data\n",
            "INFO:fastf1.fastf1.req:Using cached data for weather_data\n",
            "req            INFO \tUsing cached data for race_control_messages\n",
            "INFO:fastf1.fastf1.req:Using cached data for race_control_messages\n",
            "core           INFO \tFinished loading data for 20 drivers: ['81', '4', '63', '1', '31', '12', '23', '87', '18', '55', '6', '30', '7', '5', '27', '22', '14', '16', '44', '10']\n",
            "INFO:fastf1.fastf1.core:Finished loading data for 20 drivers: ['81', '4', '63', '1', '31', '12', '23', '87', '18', '55', '6', '30', '7', '5', '27', '22', '14', '16', '44', '10']\n",
            "core           INFO \tLoading data for Japanese Grand Prix - Race [v3.5.3]\n",
            "INFO:fastf1.fastf1.core:Loading data for Japanese Grand Prix - Race [v3.5.3]\n",
            "req            INFO \tUsing cached data for session_info\n",
            "INFO:fastf1.fastf1.req:Using cached data for session_info\n",
            "req            INFO \tUsing cached data for driver_info\n",
            "INFO:fastf1.fastf1.req:Using cached data for driver_info\n",
            "req            INFO \tUsing cached data for session_status_data\n",
            "INFO:fastf1.fastf1.req:Using cached data for session_status_data\n",
            "req            INFO \tUsing cached data for lap_count\n",
            "INFO:fastf1.fastf1.req:Using cached data for lap_count\n",
            "req            INFO \tUsing cached data for track_status_data\n",
            "INFO:fastf1.fastf1.req:Using cached data for track_status_data\n",
            "req            INFO \tUsing cached data for _extended_timing_data\n",
            "INFO:fastf1.fastf1.req:Using cached data for _extended_timing_data\n",
            "req            INFO \tUsing cached data for timing_app_data\n",
            "INFO:fastf1.fastf1.req:Using cached data for timing_app_data\n",
            "core           INFO \tProcessing timing data...\n",
            "INFO:fastf1.fastf1.core:Processing timing data...\n",
            "req            INFO \tUsing cached data for car_data\n",
            "INFO:fastf1.fastf1.req:Using cached data for car_data\n",
            "req            INFO \tUsing cached data for position_data\n",
            "INFO:fastf1.fastf1.req:Using cached data for position_data\n",
            "req            INFO \tUsing cached data for weather_data\n",
            "INFO:fastf1.fastf1.req:Using cached data for weather_data\n",
            "req            INFO \tUsing cached data for race_control_messages\n",
            "INFO:fastf1.fastf1.req:Using cached data for race_control_messages\n",
            "core           INFO \tFinished loading data for 20 drivers: ['1', '4', '81', '16', '63', '12', '44', '6', '23', '87', '14', '22', '10', '55', '7', '27', '30', '31', '5', '18']\n",
            "INFO:fastf1.fastf1.core:Finished loading data for 20 drivers: ['1', '4', '81', '16', '63', '12', '44', '6', '23', '87', '14', '22', '10', '55', '7', '27', '30', '31', '5', '18']\n"
          ]
        }
      ]
    },
    {
      "cell_type": "code",
      "source": [
        "# Scores\n",
        "data_2025_full[\"Score_2024\"] = 20 - data_2025_full[\"Bahrain2024Rank\"].fillna(20)\n",
        "y_train = (1.0 * data_2025_full[\"Score_2024\"] +\n",
        "           3.0 * (20 - data_2025_full[\"Bahrain2025QualiRank\"]) +\n",
        "           2.0 * (20 - data_2025_full[\"Season2025AvgRank\"])) / 6.0\n",
        "# Features\n",
        "features = [\"Bahrain2024Rank\", \"Bahrain2025QualiRank\", \"Season2025AvgRank\"]\n",
        "X_train = data_2025_full[features].fillna(20)\n",
        "X_train[\"Bahrain2024Rank\"] = X_train[\"Bahrain2024Rank\"] * 1.0\n",
        "X_train[\"Bahrain2025QualiRank\"] = X_train[\"Bahrain2025QualiRank\"] * 3.0\n",
        "X_train[\"Season2025AvgRank\"] = X_train[\"Season2025AvgRank\"] * 2.0"
      ],
      "metadata": {
        "id": "xvmg5-fSsxII"
      },
      "execution_count": 28,
      "outputs": []
    },
    {
      "cell_type": "code",
      "source": [
        "# Regressor\n",
        "model = XGBRegressor(n_estimators=100, max_depth=4, learning_rate=0.05, random_state=42, objective='reg:squarederror')\n",
        "model.fit(X_train, y_train)\n",
        "\n",
        "# Predict\n",
        "X_pred = data_2025_full[features].fillna(20)\n",
        "X_pred[\"Bahrain2024Rank\"] = X_pred[\"Bahrain2024Rank\"] * 1.0\n",
        "X_pred[\"Bahrain2025QualiRank\"] = X_pred[\"Bahrain2025QualiRank\"] * 3.0\n",
        "X_pred[\"Season2025AvgRank\"] = X_pred[\"Season2025AvgRank\"] * 2.0\n",
        "scores = model.predict(X_pred)\n",
        "data_2025_full[\"WinProbability\"] = 0.1 + 0.8 / (1 + np.exp(-3 * (scores - scores.mean()) / scores.std()))\n",
        "data_2025_full[\"PredictedWinner\"] = (data_2025_full[\"WinProbability\"] == data_2025_full[\"WinProbability\"].max()).astype(int)\n",
        "winner = data_2025_full[data_2025_full[\"PredictedWinner\"] == 1][\"Driver\"].values[0]"
      ],
      "metadata": {
        "id": "8vjxKpAos0wI"
      },
      "execution_count": 29,
      "outputs": []
    },
    {
      "cell_type": "code",
      "source": [
        "# Output\n",
        "print(\"\\n✨ Post-Quali Feature Importances (2024 + 2025 Season) ✨\")\n",
        "print(tabulate(pd.DataFrame(list(zip(features, model.feature_importances_)), columns=[\"Feature\", \"Importance\"]),\n",
        "               headers=\"keys\", tablefmt=\"psql\", showindex=False))\n",
        "print(\"\\n🏆 Post-Quali Predicted 2025 Bahrain GP Winner Odds (2024 + 2025 Season) 🏆\\n\")\n",
        "print(tabulate(data_2025_full[[\"Driver\", \"DriverNumber\", \"Bahrain2024Rank\", \"Bahrain2025QualiRank\", \"Season2025AvgRank\", \"WinProbability\"]]\n",
        "               .sort_values(\"WinProbability\", ascending=False),\n",
        "               headers=[\"Driver\", \"No.\", \"2024 Rank\", \"2025 Quali\", \"2025 Avg Rank\", \"Win Prob.\"],\n",
        "               tablefmt=\"fancy_grid\",\n",
        "               showindex=False,\n",
        "               floatfmt=(\"\", \"\", \".0f\", \".0f\", \".1f\", \".3f\")))\n",
        "print(f\"\\n🎯 Predicted Winner (Post-Quali): {winner} 🎯\")"
      ],
      "metadata": {
        "colab": {
          "base_uri": "https://localhost:8080/"
        },
        "id": "eE_n-Q5Is4E3",
        "outputId": "c91d8f8d-c5e4-4e13-91e4-fb6a732cdbdf"
      },
      "execution_count": 30,
      "outputs": [
        {
          "output_type": "stream",
          "name": "stdout",
          "text": [
            "\n",
            "✨ Post-Quali Feature Importances (2024 + 2025 Season) ✨\n",
            "+----------------------+--------------+\n",
            "| Feature              |   Importance |\n",
            "|----------------------+--------------|\n",
            "| Bahrain2024Rank      |    0.0184917 |\n",
            "| Bahrain2025QualiRank |    0.848923  |\n",
            "| Season2025AvgRank    |    0.132585  |\n",
            "+----------------------+--------------+\n",
            "\n",
            "🏆 Post-Quali Predicted 2025 Bahrain GP Winner Odds (2024 + 2025 Season) 🏆\n",
            "\n",
            "╒═══════════════════╤═══════╤═════════════╤══════════════╤═════════════════╤═════════════╕\n",
            "│ Driver            │   No. │   2024 Rank │   2025 Quali │   2025 Avg Rank │   Win Prob. │\n",
            "╞═══════════════════╪═══════╪═════════════╪══════════════╪═════════════════╪═════════════╡\n",
            "│ Oscar Piastri     │    81 │           8 │            1 │             4.3 │       0.893 │\n",
            "├───────────────────┼───────┼─────────────┼──────────────┼─────────────────┼─────────────┤\n",
            "│ George Russell    │    63 │           5 │            3 │             3.7 │       0.893 │\n",
            "├───────────────────┼───────┼─────────────┼──────────────┼─────────────────┼─────────────┤\n",
            "│ Max Verstappen    │     1 │           1 │            7 │             2.3 │       0.888 │\n",
            "├───────────────────┼───────┼─────────────┼──────────────┼─────────────────┼─────────────┤\n",
            "│ Lando Norris      │     4 │           6 │            6 │             1.7 │       0.888 │\n",
            "├───────────────────┼───────┼─────────────┼──────────────┼─────────────────┼─────────────┤\n",
            "│ Charles Leclerc   │    16 │           4 │            2 │            10.0 │       0.883 │\n",
            "├───────────────────┼───────┼─────────────┼──────────────┼─────────────────┼─────────────┤\n",
            "│ Kimi Antonelli    │    12 │         nan │            5 │             5.3 │       0.815 │\n",
            "├───────────────────┼───────┼─────────────┼──────────────┼─────────────────┼─────────────┤\n",
            "│ Carlos Sainz      │    55 │           3 │            8 │            14.0 │       0.700 │\n",
            "├───────────────────┼───────┼─────────────┼──────────────┼─────────────────┼─────────────┤\n",
            "│ Lewis Hamilton    │    44 │           7 │            9 │            12.0 │       0.648 │\n",
            "├───────────────────┼───────┼─────────────┼──────────────┼─────────────────┼─────────────┤\n",
            "│ Pierre Gasly      │    10 │          18 │            4 │            14.7 │       0.623 │\n",
            "├───────────────────┼───────┼─────────────┼──────────────┼─────────────────┼─────────────┤\n",
            "│ Yuki Tsunoda      │    22 │          14 │           10 │            13.3 │       0.382 │\n",
            "├───────────────────┼───────┼─────────────┼──────────────┼─────────────────┼─────────────┤\n",
            "│ Alex Albon        │    23 │          15 │           15 │             7.0 │       0.319 │\n",
            "├───────────────────┼───────┼─────────────┼──────────────┼─────────────────┼─────────────┤\n",
            "│ Fernando Alonso   │    14 │           9 │           13 │            15.0 │       0.256 │\n",
            "├───────────────────┼───────┼─────────────┼──────────────┼─────────────────┼─────────────┤\n",
            "│ Isack Hadjar      │     6 │         nan │           12 │            13.0 │       0.202 │\n",
            "├───────────────────┼───────┼─────────────┼──────────────┼─────────────────┼─────────────┤\n",
            "│ Esteban Ocon      │    31 │          17 │           14 │            12.0 │       0.201 │\n",
            "├───────────────────┼───────┼─────────────┼──────────────┼─────────────────┼─────────────┤\n",
            "│ Jack Doohan       │     7 │         nan │           11 │            15.7 │       0.192 │\n",
            "├───────────────────┼───────┼─────────────┼──────────────┼─────────────────┼─────────────┤\n",
            "│ Nico Hulkenberg   │    27 │          16 │           16 │            12.7 │       0.153 │\n",
            "├───────────────────┼───────┼─────────────┼──────────────┼─────────────────┼─────────────┤\n",
            "│ Lance Stroll      │    18 │          10 │           19 │            11.7 │       0.147 │\n",
            "├───────────────────┼───────┼─────────────┼──────────────┼─────────────────┼─────────────┤\n",
            "│ Liam Lawson       │    30 │         nan │           17 │            14.7 │       0.116 │\n",
            "├───────────────────┼───────┼─────────────┼──────────────┼─────────────────┼─────────────┤\n",
            "│ Ollie Bearman     │    87 │         nan │           20 │            10.7 │       0.116 │\n",
            "├───────────────────┼───────┼─────────────┼──────────────┼─────────────────┼─────────────┤\n",
            "│ Gabriel Bortoleto │     5 │         nan │           18 │            16.3 │       0.111 │\n",
            "╘═══════════════════╧═══════╧═════════════╧══════════════╧═════════════════╧═════════════╛\n",
            "\n",
            "🎯 Predicted Winner (Post-Quali): Oscar Piastri 🎯\n"
          ]
        }
      ]
    }
  ]
}