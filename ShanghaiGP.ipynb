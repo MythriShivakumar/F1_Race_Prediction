{
  "nbformat": 4,
  "nbformat_minor": 0,
  "metadata": {
    "colab": {
      "provenance": []
    },
    "kernelspec": {
      "name": "python3",
      "display_name": "Python 3"
    },
    "language_info": {
      "name": "python"
    }
  },
  "cells": [
    {
      "cell_type": "code",
      "source": [
        "# Install dependencies\n",
        "!pip install fastf1 tabulate\n",
        "\n",
        "# Import the essentials\n",
        "import os\n",
        "import fastf1\n",
        "import pandas as pd\n",
        "import numpy as np\n",
        "from sklearn.ensemble import RandomForestRegressor\n",
        "from sklearn.metrics import mean_absolute_error\n",
        "from tabulate import tabulate"
      ],
      "metadata": {
        "colab": {
          "base_uri": "https://localhost:8080/"
        },
        "id": "Cim9Q6Lpi-Hj",
        "outputId": "205ef461-7949-4476-8a67-90117d83e5a9"
      },
      "execution_count": 37,
      "outputs": [
        {
          "output_type": "stream",
          "name": "stdout",
          "text": [
            "Requirement already satisfied: fastf1 in /usr/local/lib/python3.11/dist-packages (3.5.3)\n",
            "Requirement already satisfied: tabulate in /usr/local/lib/python3.11/dist-packages (0.9.0)\n",
            "Requirement already satisfied: matplotlib<4.0.0,>=3.5.1 in /usr/local/lib/python3.11/dist-packages (from fastf1) (3.10.0)\n",
            "Requirement already satisfied: numpy<3.0.0,>=1.23.1 in /usr/local/lib/python3.11/dist-packages (from fastf1) (2.0.2)\n",
            "Requirement already satisfied: pandas<3.0.0,>=1.4.1 in /usr/local/lib/python3.11/dist-packages (from fastf1) (2.2.2)\n",
            "Requirement already satisfied: python-dateutil in /usr/local/lib/python3.11/dist-packages (from fastf1) (2.8.2)\n",
            "Requirement already satisfied: rapidfuzz in /usr/local/lib/python3.11/dist-packages (from fastf1) (3.12.2)\n",
            "Requirement already satisfied: requests-cache>=1.0.0 in /usr/local/lib/python3.11/dist-packages (from fastf1) (1.2.1)\n",
            "Requirement already satisfied: requests>=2.28.1 in /usr/local/lib/python3.11/dist-packages (from fastf1) (2.32.3)\n",
            "Requirement already satisfied: scipy<2.0.0,>=1.8.1 in /usr/local/lib/python3.11/dist-packages (from fastf1) (1.14.1)\n",
            "Requirement already satisfied: timple>=0.1.6 in /usr/local/lib/python3.11/dist-packages (from fastf1) (0.1.8)\n",
            "Requirement already satisfied: websockets<14,>=10.3 in /usr/local/lib/python3.11/dist-packages (from fastf1) (13.1)\n",
            "Requirement already satisfied: contourpy>=1.0.1 in /usr/local/lib/python3.11/dist-packages (from matplotlib<4.0.0,>=3.5.1->fastf1) (1.3.1)\n",
            "Requirement already satisfied: cycler>=0.10 in /usr/local/lib/python3.11/dist-packages (from matplotlib<4.0.0,>=3.5.1->fastf1) (0.12.1)\n",
            "Requirement already satisfied: fonttools>=4.22.0 in /usr/local/lib/python3.11/dist-packages (from matplotlib<4.0.0,>=3.5.1->fastf1) (4.56.0)\n",
            "Requirement already satisfied: kiwisolver>=1.3.1 in /usr/local/lib/python3.11/dist-packages (from matplotlib<4.0.0,>=3.5.1->fastf1) (1.4.8)\n",
            "Requirement already satisfied: packaging>=20.0 in /usr/local/lib/python3.11/dist-packages (from matplotlib<4.0.0,>=3.5.1->fastf1) (24.2)\n",
            "Requirement already satisfied: pillow>=8 in /usr/local/lib/python3.11/dist-packages (from matplotlib<4.0.0,>=3.5.1->fastf1) (11.1.0)\n",
            "Requirement already satisfied: pyparsing>=2.3.1 in /usr/local/lib/python3.11/dist-packages (from matplotlib<4.0.0,>=3.5.1->fastf1) (3.2.1)\n",
            "Requirement already satisfied: pytz>=2020.1 in /usr/local/lib/python3.11/dist-packages (from pandas<3.0.0,>=1.4.1->fastf1) (2025.1)\n",
            "Requirement already satisfied: tzdata>=2022.7 in /usr/local/lib/python3.11/dist-packages (from pandas<3.0.0,>=1.4.1->fastf1) (2025.1)\n",
            "Requirement already satisfied: six>=1.5 in /usr/local/lib/python3.11/dist-packages (from python-dateutil->fastf1) (1.17.0)\n",
            "Requirement already satisfied: charset-normalizer<4,>=2 in /usr/local/lib/python3.11/dist-packages (from requests>=2.28.1->fastf1) (3.4.1)\n",
            "Requirement already satisfied: idna<4,>=2.5 in /usr/local/lib/python3.11/dist-packages (from requests>=2.28.1->fastf1) (3.10)\n",
            "Requirement already satisfied: urllib3<3,>=1.21.1 in /usr/local/lib/python3.11/dist-packages (from requests>=2.28.1->fastf1) (2.3.0)\n",
            "Requirement already satisfied: certifi>=2017.4.17 in /usr/local/lib/python3.11/dist-packages (from requests>=2.28.1->fastf1) (2025.1.31)\n",
            "Requirement already satisfied: attrs>=21.2 in /usr/local/lib/python3.11/dist-packages (from requests-cache>=1.0.0->fastf1) (25.3.0)\n",
            "Requirement already satisfied: cattrs>=22.2 in /usr/local/lib/python3.11/dist-packages (from requests-cache>=1.0.0->fastf1) (24.1.2)\n",
            "Requirement already satisfied: platformdirs>=2.5 in /usr/local/lib/python3.11/dist-packages (from requests-cache>=1.0.0->fastf1) (4.3.6)\n",
            "Requirement already satisfied: url-normalize>=1.4 in /usr/local/lib/python3.11/dist-packages (from requests-cache>=1.0.0->fastf1) (1.4.3)\n"
          ]
        }
      ]
    },
    {
      "cell_type": "code",
      "source": [
        "# Cache setup—keeps fastf1 from choking\n",
        "cache_dir = \"/content/f1_cache\"\n",
        "if not os.path.exists(cache_dir):\n",
        "    os.makedirs(cache_dir)\n",
        "fastf1.Cache.enable_cache(cache_dir)\n",
        "\n",
        "# 2025 driver grid—hardcoded lineup\n",
        "grid_2025 = pd.DataFrame({\n",
        "    \"Driver\": [\"Lando Norris\", \"Oscar Piastri\", \"Max Verstappen\", \"Liam Lawson\",\n",
        "               \"Lewis Hamilton\", \"Charles Leclerc\", \"Alex Albon\", \"Carlos Sainz\",\n",
        "               \"George Russell\", \"Kimi Antonelli\", \"Fernando Alonso\", \"Lance Stroll\",\n",
        "               \"Pierre Gasly\", \"Jack Doohan\", \"Yuki Tsunoda\", \"Isack Hadjar\",\n",
        "               \"Oliver Bearman\", \"Esteban Ocon\", \"Nico Hulkenberg\", \"Gabriel Bortoleto\"],\n",
        "    \"DriverCode\": [\"NOR\", \"PIA\", \"VER\", \"LAW\", \"HAM\", \"LEC\", \"ALB\", \"SAI\", \"RUS\", \"ANT\",\n",
        "                   \"ALO\", \"STR\", \"GAS\", \"DOO\", \"TSU\", \"HAD\", \"BEA\", \"OCO\", \"HUL\", \"BOR\"],\n",
        "    \"DriverNumber\": ['4', '81', '1', '30', '44', '16', '23', '55', '63', '87',\n",
        "                     '14', '18', '10', '12', '22', '6', '7', '31', '27', '5'],\n",
        "    \"TeamStrength\": [9.8, 9.8, 9.2, 9.2, 7.5, 7.5, 7.8, 7.8, 8.8, 8.8,\n",
        "                     6.8, 6.8, 6.0, 6.0, 5.5, 5.5, 5.0, 5.0, 4.5, 4.5],  # Arbitrary team ratings\n",
        "    \"DriverExperience\": [6, 2, 10, 1, 18, 7, 6, 10, 6, 1, 22, 7, 8, 1, 5, 1, 1, 8, 12, 1]  # Years on the grid\n",
        "})\n",
        "\n",
        "# 2024 average positions—past performance baseline\n",
        "season_2024_avg = {\n",
        "    '1': 1.5, '4': 3.0, '81': 5.0, '44': 4.0, '16': 6.0, '55': 7.0, '63': 2.5, '23': 8.0,\n",
        "    '14': 10.0, '18': 12.0, '10': 13.0, '22': 11.0, '31': 9.0, '27': 14.0,\n",
        "    '30': 15.0, '87': 16.0, '12': 17.0, '6': 18.0, '7': 19.0, '5': 20.0\n",
        "}\n",
        "grid_2025[\"Avg2024Position\"] = grid_2025[\"DriverNumber\"].map(season_2024_avg)  # Link to drivers"
      ],
      "metadata": {
        "id": "OVnut1BKjCqj"
      },
      "execution_count": 38,
      "outputs": []
    },
    {
      "cell_type": "code",
      "source": [
        "# Blind prediction for Aus 2025—no real data, just vibes\n",
        "features = [\"Avg2024Position\", \"TeamStrength\", \"DriverExperience\"]\n",
        "X_blind = grid_2025[features].fillna(grid_2025[features].median())  # Handle missing values\n",
        "model = RandomForestRegressor(n_estimators=100, random_state=42)  # 100-tree forest\n",
        "model.fit(X_blind, X_blind[\"Avg2024Position\"])  # Train on 2024 data\n",
        "grid_2025[\"PredictedAusPositionFloat\"] = model.predict(X_blind)  # Raw prediction scores\n",
        "grid_2025[\"PredictedAusPosition\"] = grid_2025[\"PredictedAusPositionFloat\"].rank(method=\"first\").astype(int)  # Convert to ranks\n",
        "grid_2025 = grid_2025.sort_values(\"PredictedAusPosition\")  # Order by position\n",
        "\n",
        "# Output Aus blind prediction—clean and sharp\n",
        "print(\"\\n🎉 Blind Prediction for 2025 Australian GP 🎉\\n\")\n",
        "print(tabulate(grid_2025[[\"Driver\", \"DriverNumber\", \"PredictedAusPosition\"]].head(10),\n",
        "               headers=[\"Driver\", \"No.\", \"Pred. Pos.\"], tablefmt=\"fancy_grid\", showindex=False))\n",
        "\n",
        "# Pull real Aus 2025 race data from fastf1\n",
        "session_aus_2025 = fastf1.get_session(2025, 'Australian', 'R')  # Race session\n",
        "session_aus_2025.load()  # Fetch it\n",
        "aus_2025_results = session_aus_2025.results[[\"DriverNumber\", \"Position\"]].rename(columns={\"Position\": \"ActualPosition\"})  # Extract positions\n",
        "aus_2025_results[\"ActualPosition\"] = pd.to_numeric(aus_2025_results[\"ActualPosition\"], errors='coerce')  # Numeric conversion\n",
        "aus_2025_results[\"Weather\"] = 1  # Wet race flag\n",
        "grid_2025 = grid_2025.merge(aus_2025_results, on=\"DriverNumber\", how=\"left\")  # Combine with grid\n",
        "\n",
        "# Compare blind prediction to reality\n",
        "print(\"\\n🏁 Comparison with Actual Aus 2025 Results 🏁\\n\")\n",
        "print(tabulate(grid_2025[[\"Driver\", \"DriverNumber\", \"PredictedAusPosition\", \"ActualPosition\"]].head(10),\n",
        "               headers=[\"Driver\", \"No.\", \"Pred. Pos.\", \"Act. Pos.\"], tablefmt=\"pretty\", showindex=False))\n",
        "\n",
        "# Calculate error—how far off we were\n",
        "mae = mean_absolute_error(grid_2025[\"ActualPosition\"].fillna(20), grid_2025[\"PredictedAusPosition\"])  # DNFs as 20\n",
        "print(f\"\\n🌟 Mean Absolute Error for Aus Prediction: {mae:.2f} 🌟\")\n"
      ],
      "metadata": {
        "colab": {
          "base_uri": "https://localhost:8080/"
        },
        "id": "6Ief4EOpjKEl",
        "outputId": "f1319615-6c01-4375-ba5d-0f2cbe1bd6f2"
      },
      "execution_count": 39,
      "outputs": [
        {
          "output_type": "stream",
          "name": "stderr",
          "text": [
            "core           INFO \tLoading data for Australian Grand Prix - Race [v3.5.3]\n",
            "INFO:fastf1.fastf1.core:Loading data for Australian Grand Prix - Race [v3.5.3]\n",
            "req            INFO \tUsing cached data for session_info\n",
            "INFO:fastf1.fastf1.req:Using cached data for session_info\n",
            "req            INFO \tUsing cached data for driver_info\n",
            "INFO:fastf1.fastf1.req:Using cached data for driver_info\n",
            "req            INFO \tUsing cached data for session_status_data\n",
            "INFO:fastf1.fastf1.req:Using cached data for session_status_data\n",
            "req            INFO \tUsing cached data for lap_count\n",
            "INFO:fastf1.fastf1.req:Using cached data for lap_count\n",
            "req            INFO \tUsing cached data for track_status_data\n",
            "INFO:fastf1.fastf1.req:Using cached data for track_status_data\n",
            "req            INFO \tUsing cached data for _extended_timing_data\n",
            "INFO:fastf1.fastf1.req:Using cached data for _extended_timing_data\n",
            "req            INFO \tUsing cached data for timing_app_data\n",
            "INFO:fastf1.fastf1.req:Using cached data for timing_app_data\n",
            "core           INFO \tProcessing timing data...\n",
            "INFO:fastf1.fastf1.core:Processing timing data...\n"
          ]
        },
        {
          "output_type": "stream",
          "name": "stdout",
          "text": [
            "\n",
            "🎉 Blind Prediction for 2025 Australian GP 🎉\n",
            "\n",
            "╒═════════════════╤═══════╤══════════════╕\n",
            "│ Driver          │   No. │   Pred. Pos. │\n",
            "╞═════════════════╪═══════╪══════════════╡\n",
            "│ Max Verstappen  │     1 │            1 │\n",
            "├─────────────────┼───────┼──────────────┤\n",
            "│ George Russell  │    63 │            2 │\n",
            "├─────────────────┼───────┼──────────────┤\n",
            "│ Lando Norris    │     4 │            3 │\n",
            "├─────────────────┼───────┼──────────────┤\n",
            "│ Lewis Hamilton  │    44 │            4 │\n",
            "├─────────────────┼───────┼──────────────┤\n",
            "│ Oscar Piastri   │    81 │            5 │\n",
            "├─────────────────┼───────┼──────────────┤\n",
            "│ Charles Leclerc │    16 │            6 │\n",
            "├─────────────────┼───────┼──────────────┤\n",
            "│ Carlos Sainz    │    55 │            7 │\n",
            "├─────────────────┼───────┼──────────────┤\n",
            "│ Alex Albon      │    23 │            8 │\n",
            "├─────────────────┼───────┼──────────────┤\n",
            "│ Esteban Ocon    │    31 │            9 │\n",
            "├─────────────────┼───────┼──────────────┤\n",
            "│ Fernando Alonso │    14 │           10 │\n",
            "╘═════════════════╧═══════╧══════════════╛\n"
          ]
        },
        {
          "output_type": "stream",
          "name": "stderr",
          "text": [
            "req            INFO \tUsing cached data for car_data\n",
            "INFO:fastf1.fastf1.req:Using cached data for car_data\n",
            "req            INFO \tUsing cached data for position_data\n",
            "INFO:fastf1.fastf1.req:Using cached data for position_data\n",
            "req            INFO \tUsing cached data for weather_data\n",
            "INFO:fastf1.fastf1.req:Using cached data for weather_data\n",
            "req            INFO \tUsing cached data for race_control_messages\n",
            "INFO:fastf1.fastf1.req:Using cached data for race_control_messages\n",
            "core        WARNING \tDriver 4 completed the race distance 00:00.022000 before the recorded end of the session.\n",
            "WARNING:fastf1.fastf1.core:Driver 4 completed the race distance 00:00.022000 before the recorded end of the session.\n",
            "core           INFO \tFinished loading data for 20 drivers: ['4', '1', '63', '12', '23', '18', '27', '16', '81', '44', '10', '22', '31', '87', '30', '5', '14', '55', '7', '6']\n",
            "INFO:fastf1.fastf1.core:Finished loading data for 20 drivers: ['4', '1', '63', '12', '23', '18', '27', '16', '81', '44', '10', '22', '31', '87', '30', '5', '14', '55', '7', '6']\n"
          ]
        },
        {
          "output_type": "stream",
          "name": "stdout",
          "text": [
            "\n",
            "🏁 Comparison with Actual Aus 2025 Results 🏁\n",
            "\n",
            "+-----------------+-----+------------+-----------+\n",
            "|     Driver      | No. | Pred. Pos. | Act. Pos. |\n",
            "+-----------------+-----+------------+-----------+\n",
            "| Max Verstappen  |  1  |     1      |    2.0    |\n",
            "| George Russell  | 63  |     2      |    3.0    |\n",
            "|  Lando Norris   |  4  |     3      |    1.0    |\n",
            "| Lewis Hamilton  | 44  |     4      |   10.0    |\n",
            "|  Oscar Piastri  | 81  |     5      |    9.0    |\n",
            "| Charles Leclerc | 16  |     6      |    8.0    |\n",
            "|  Carlos Sainz   | 55  |     7      |   18.0    |\n",
            "|   Alex Albon    | 23  |     8      |    5.0    |\n",
            "|  Esteban Ocon   | 31  |     9      |   13.0    |\n",
            "| Fernando Alonso | 14  |     10     |   17.0    |\n",
            "+-----------------+-----+------------+-----------+\n",
            "\n",
            "🌟 Mean Absolute Error for Aus Prediction: 3.90 🌟\n"
          ]
        }
      ]
    },
    {
      "cell_type": "code",
      "source": [
        "# Load China 2025 Sprint Qualifying data\n",
        "session_2025_sprint_quali = fastf1.get_session(2025, 'Chinese', 'Sprint Qualifying')  # Sprint session\n",
        "session_2025_sprint_quali.load()  # Get the data\n",
        "sprint_quali_2025 = session_2025_sprint_quali.laps[[\"DriverNumber\", \"LapTime\"]].groupby(\"DriverNumber\").agg({\"LapTime\": \"min\"}).reset_index()  # Best laps\n",
        "sprint_quali_2025[\"SprintQualiTime (s)\"] = sprint_quali_2025[\"LapTime\"].dt.total_seconds()  # Seconds format\n",
        "\n",
        "# Set up China race prediction data\n",
        "data_2025 = grid_2025.drop(columns=[\"PredictedAusPosition\", \"PredictedAusPositionFloat\", \"ActualPosition\"])  # Reset\n",
        "data_2025 = data_2025.merge(sprint_quali_2025[[\"DriverNumber\", \"SprintQualiTime (s)\"]], on=\"DriverNumber\", how=\"left\")  # Add Sprint\n",
        "data_2025[\"SprintQualiDelta\"] = (data_2025[\"SprintQualiTime (s)\"] - data_2025[\"SprintQualiTime (s)\"].min()) / data_2025[\"SprintQualiTime (s)\"].min()  # Pace gap\n",
        "data_2025[\"Weather\"] = 0  # Dry race assumption\n",
        "data_2025[\"SprintRank\"] = data_2025[\"SprintQualiTime (s)\"].rank(method=\"first\").astype(int)  # Sprint order\n",
        "\n",
        "# Train model for China race—blend Aus and Sprint\n",
        "features = [\"Avg2024Position\", \"TeamStrength\", \"DriverExperience\", \"Weather\", \"SprintQualiDelta\"]\n",
        "X_train = data_2025[features].fillna(data_2025[features].median())  # Prep training data\n",
        "y_train = 0.2 * grid_2025[\"ActualPosition\"].fillna(20) + 0.8 * data_2025[\"SprintRank\"]  # 20% Aus, 80% Sprint\n",
        "model.fit(X_train, y_train)  # Fit the model\n",
        "print(\"\\n✨ Feature Importances for China ✨\")\n",
        "print(tabulate(pd.DataFrame(list(dict(zip(features, model.feature_importances_)).items()), columns=[\"Feature\", \"Importance\"]),\n",
        "               headers=\"keys\", tablefmt=\"psql\", showindex=False))  # Feature weights"
      ],
      "metadata": {
        "colab": {
          "base_uri": "https://localhost:8080/"
        },
        "id": "zczx4R9ajOpy",
        "outputId": "100f7030-0c87-47f6-9222-5b72f217202c"
      },
      "execution_count": 40,
      "outputs": [
        {
          "output_type": "stream",
          "name": "stderr",
          "text": [
            "core           INFO \tLoading data for Chinese Grand Prix - Sprint Qualifying [v3.5.3]\n",
            "INFO:fastf1.fastf1.core:Loading data for Chinese Grand Prix - Sprint Qualifying [v3.5.3]\n",
            "req            INFO \tUsing cached data for session_info\n",
            "INFO:fastf1.fastf1.req:Using cached data for session_info\n",
            "req            INFO \tUsing cached data for driver_info\n",
            "INFO:fastf1.fastf1.req:Using cached data for driver_info\n",
            "core        WARNING \tSprint Qualifying is not supported by Ergast! Limited results are calculated from timing data.\n",
            "WARNING:fastf1.fastf1.core:Sprint Qualifying is not supported by Ergast! Limited results are calculated from timing data.\n",
            "req            INFO \tUsing cached data for session_status_data\n",
            "INFO:fastf1.fastf1.req:Using cached data for session_status_data\n",
            "req            INFO \tUsing cached data for track_status_data\n",
            "INFO:fastf1.fastf1.req:Using cached data for track_status_data\n",
            "req            INFO \tUsing cached data for _extended_timing_data\n",
            "INFO:fastf1.fastf1.req:Using cached data for _extended_timing_data\n",
            "req            INFO \tUsing cached data for timing_app_data\n",
            "INFO:fastf1.fastf1.req:Using cached data for timing_app_data\n",
            "core           INFO \tProcessing timing data...\n",
            "INFO:fastf1.fastf1.core:Processing timing data...\n",
            "req            INFO \tUsing cached data for car_data\n",
            "INFO:fastf1.fastf1.req:Using cached data for car_data\n",
            "req            INFO \tUsing cached data for position_data\n",
            "INFO:fastf1.fastf1.req:Using cached data for position_data\n",
            "req            INFO \tUsing cached data for weather_data\n",
            "INFO:fastf1.fastf1.req:Using cached data for weather_data\n",
            "req            INFO \tUsing cached data for race_control_messages\n",
            "INFO:fastf1.fastf1.req:Using cached data for race_control_messages\n",
            "core           INFO \tFinished loading data for 20 drivers: ['44', '1', '81', '16', '63', '4', '12', '22', '23', '18', '14', '87', '55', '5', '6', '7', '10', '31', '27', '30']\n",
            "INFO:fastf1.fastf1.core:Finished loading data for 20 drivers: ['44', '1', '81', '16', '63', '4', '12', '22', '23', '18', '14', '87', '55', '5', '6', '7', '10', '31', '27', '30']\n"
          ]
        },
        {
          "output_type": "stream",
          "name": "stdout",
          "text": [
            "\n",
            "✨ Feature Importances for China ✨\n",
            "+------------------+--------------+\n",
            "| Feature          |   Importance |\n",
            "|------------------+--------------|\n",
            "| Avg2024Position  |    0.0785697 |\n",
            "| TeamStrength     |    0.0348889 |\n",
            "| DriverExperience |    0.0129494 |\n",
            "| Weather          |    0         |\n",
            "| SprintQualiDelta |    0.873592  |\n",
            "+------------------+--------------+\n"
          ]
        }
      ]
    },
    {
      "cell_type": "code",
      "source": [
        "# Predict China race grid\n",
        "X_pred = data_2025[features].fillna(data_2025[features].median())  # Prediction data\n",
        "data_2025[\"PredictedPositionFloat\"] = model.predict(X_pred)  # Raw scores\n",
        "data_2025[\"PredictedPosition\"] = data_2025[\"PredictedPositionFloat\"].rank(method=\"first\").astype(int)  # Final ranks\n",
        "data_2025 = data_2025.sort_values(\"PredictedPosition\")  # Sort it\n",
        "\n",
        "# Display the China race prediction—sleek and bold\n",
        "print(\"\\n🏆 Predicted 2025 Chinese GP Full Grid 🏆\\n\")\n",
        "print(tabulate(data_2025[[\"Driver\", \"DriverNumber\", \"SprintQualiTime (s)\", \"SprintRank\", \"PredictedPosition\"]].head(20),\n",
        "               headers=[\"Driver\", \"No.\", \"Sprint Time (s)\", \"Sprint Rank\", \"Pred. Pos.\"], tablefmt=\"fancy_grid\", showindex=False,\n",
        "               floatfmt=\".3f\"))\n",
        "\n",
        "# Save to CSV—keep the proof\n",
        "data_2025.to_csv(\"f1_2025_season_data.csv\", index=False)"
      ],
      "metadata": {
        "colab": {
          "base_uri": "https://localhost:8080/"
        },
        "id": "TOqc2H4WjQ1f",
        "outputId": "1b815497-5f2e-40c3-b892-9c97f51d2e0a"
      },
      "execution_count": 41,
      "outputs": [
        {
          "output_type": "stream",
          "name": "stdout",
          "text": [
            "\n",
            "🏆 Predicted 2025 Chinese GP Full Grid 🏆\n",
            "\n",
            "╒═══════════════════╤═══════╤═══════════════════╤═══════════════╤══════════════╕\n",
            "│ Driver            │   No. │   Sprint Time (s) │   Sprint Rank │   Pred. Pos. │\n",
            "╞═══════════════════╪═══════╪═══════════════════╪═══════════════╪══════════════╡\n",
            "│ Max Verstappen    │     1 │            90.867 │             2 │            1 │\n",
            "├───────────────────┼───────┼───────────────────┼───────────────┼──────────────┤\n",
            "│ Lewis Hamilton    │    44 │            90.849 │             1 │            2 │\n",
            "├───────────────────┼───────┼───────────────────┼───────────────┼──────────────┤\n",
            "│ Oscar Piastri     │    81 │            90.929 │             3 │            3 │\n",
            "├───────────────────┼───────┼───────────────────┼───────────────┼──────────────┤\n",
            "│ George Russell    │    63 │            91.169 │             5 │            4 │\n",
            "├───────────────────┼───────┼───────────────────┼───────────────┼──────────────┤\n",
            "│ Lando Norris      │     4 │            91.174 │             6 │            5 │\n",
            "├───────────────────┼───────┼───────────────────┼───────────────┼──────────────┤\n",
            "│ Charles Leclerc   │    16 │            91.057 │             4 │            6 │\n",
            "├───────────────────┼───────┼───────────────────┼───────────────┼──────────────┤\n",
            "│ Alex Albon        │    23 │            91.539 │             8 │            7 │\n",
            "├───────────────────┼───────┼───────────────────┼───────────────┼──────────────┤\n",
            "│ Jack Doohan       │    12 │            91.475 │             7 │            8 │\n",
            "├───────────────────┼───────┼───────────────────┼───────────────┼──────────────┤\n",
            "│ Lance Stroll      │    18 │            91.742 │             9 │            9 │\n",
            "├───────────────────┼───────┼───────────────────┼───────────────┼──────────────┤\n",
            "│ Yuki Tsunoda      │    22 │            91.773 │            10 │           10 │\n",
            "├───────────────────┼───────┼───────────────────┼───────────────┼──────────────┤\n",
            "│ Fernando Alonso   │    14 │            91.815 │            11 │           11 │\n",
            "├───────────────────┼───────┼───────────────────┼───────────────┼──────────────┤\n",
            "│ Kimi Antonelli    │    87 │            91.978 │            12 │           12 │\n",
            "├───────────────────┼───────┼───────────────────┼───────────────┼──────────────┤\n",
            "│ Carlos Sainz      │    55 │            92.325 │            14 │           13 │\n",
            "├───────────────────┼───────┼───────────────────┼───────────────┼──────────────┤\n",
            "│ Isack Hadjar      │     6 │            92.171 │            13 │           14 │\n",
            "├───────────────────┼───────┼───────────────────┼───────────────┼──────────────┤\n",
            "│ Gabriel Bortoleto │     5 │            92.539 │            15 │           15 │\n",
            "├───────────────────┼───────┼───────────────────┼───────────────┼──────────────┤\n",
            "│ Pierre Gasly      │    10 │            92.640 │            17 │           16 │\n",
            "├───────────────────┼───────┼───────────────────┼───────────────┼──────────────┤\n",
            "│ Oliver Bearman    │     7 │            92.575 │            16 │           17 │\n",
            "├───────────────────┼───────┼───────────────────┼───────────────┼──────────────┤\n",
            "│ Esteban Ocon      │    31 │            92.651 │            18 │           18 │\n",
            "├───────────────────┼───────┼───────────────────┼───────────────┼──────────────┤\n",
            "│ Nico Hulkenberg   │    27 │            92.675 │            19 │           19 │\n",
            "├───────────────────┼───────┼───────────────────┼───────────────┼──────────────┤\n",
            "│ Liam Lawson       │    30 │            92.729 │            20 │           20 │\n",
            "╘═══════════════════╧═══════╧═══════════════════╧═══════════════╧══════════════╛\n"
          ]
        }
      ]
    }
  ]
}
