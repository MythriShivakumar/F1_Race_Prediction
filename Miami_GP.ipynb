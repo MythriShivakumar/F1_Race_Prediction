{
  "nbformat": 4,
  "nbformat_minor": 0,
  "metadata": {
    "colab": {
      "provenance": []
    },
    "kernelspec": {
      "name": "python3",
      "display_name": "Python 3"
    },
    "language_info": {
      "name": "python"
    }
  },
  "cells": [
    {
      "cell_type": "code",
      "execution_count": null,
      "metadata": {
        "id": "YHCWe0U3uDjF"
      },
      "outputs": [],
      "source": [
        "!pip install fastf1 tabulate xgboost"
      ]
    },
    {
      "cell_type": "code",
      "source": [
        "import os\n",
        "import fastf1\n",
        "import pandas as pd\n",
        "import numpy as np\n",
        "from xgboost import XGBRegressor\n",
        "from sklearn.preprocessing import StandardScaler\n",
        "from tabulate import tabulate"
      ],
      "metadata": {
        "id": "lUQG8DJduO5E"
      },
      "execution_count": 5,
      "outputs": []
    },
    {
      "cell_type": "code",
      "source": [
        "# Cache setup\n",
        "cache_dir = \"/content/miami_f1_cache\"\n",
        "if not os.path.exists(cache_dir):\n",
        "    os.makedirs(cache_dir)\n",
        "fastf1.Cache.enable_cache(cache_dir)"
      ],
      "metadata": {
        "id": "inBo-R9bvnUo"
      },
      "execution_count": 6,
      "outputs": []
    },
    {
      "cell_type": "code",
      "source": [
        "# 2025 grid\n",
        "grid_2025_full = pd.DataFrame({\n",
        "    \"Driver\": [\"Lando Norris\", \"Oscar Piastri\", \"Max Verstappen\", \"Lewis Hamilton\",\n",
        "               \"Charles Leclerc\", \"Alex Albon\", \"Carlos Sainz\", \"George Russell\",\n",
        "               \"Fernando Alonso\", \"Lance Stroll\", \"Pierre Gasly\", \"Yuki Tsunoda\",\n",
        "               \"Esteban Ocon\", \"Nico Hulkenberg\", \"Kimi Antonelli\", \"Isack Hadjar\",\n",
        "               \"Ollie Bearman\", \"Liam Lawson\", \"Jack Doohan\", \"Gabriel Bortoleto\"],\n",
        "    \"DriverCode\": [\"NOR\", \"PIA\", \"VER\", \"HAM\", \"LEC\", \"ALB\", \"SAI\", \"RUS\",\n",
        "                   \"ALO\", \"STR\", \"GAS\", \"TSU\", \"OCO\", \"HUL\", \"ANT\", \"HAD\",\n",
        "                   \"BEA\", \"LAW\", \"DOO\", \"BOR\"],\n",
        "    \"DriverNumber\": ['4', '81', '1', '44', '16', '23', '55', '63',\n",
        "                     '14', '18', '10', '22', '31', '27', '12', '6',\n",
        "                     '87', '30', '7', '5']\n",
        "}).astype({\"DriverNumber\": str})\n",
        "\n",
        "data_2025_full = grid_2025_full.copy()"
      ],
      "metadata": {
        "id": "Y4xX2cX-vqWl"
      },
      "execution_count": 7,
      "outputs": []
    },
    {
      "cell_type": "code",
      "source": [
        "# Load 2024 Miami GP data\n",
        "try:\n",
        "    session = fastf1.get_session(2024, 'Miami', 'R')\n",
        "    session.load()\n",
        "    results = session.results[[\"Abbreviation\", \"Position\"]].copy()\n",
        "    results.rename(columns={\"Abbreviation\": \"DriverCode\"}, inplace=True)\n",
        "    results[\"Miami2024Rank\"] = pd.to_numeric(results[\"Position\"], errors='coerce').rank(method=\"first\").astype(int)\n",
        "    data_2025_full = data_2025_full.merge(results[[\"DriverCode\", \"Miami2024Rank\"]], on=\"DriverCode\", how=\"left\")\n",
        "except Exception as e:\n",
        "    print(f\"Failed to load 2024 Miami GP data: {e}\")"
      ],
      "metadata": {
        "id": "HHQVNbZkvu0y"
      },
      "execution_count": null,
      "outputs": []
    },
    {
      "cell_type": "code",
      "source": [
        "# 2025 Miami Sprint Qualifying\n",
        "sprint_quali_2025_miami = pd.DataFrame({\n",
        "    \"Driver\": [\n",
        "        \"Kimi Antonelli\", \"Oscar Piastri\", \"Lando Norris\", \"Max Verstappen\",\n",
        "        \"George Russell\", \"Charles Leclerc\", \"Lewis Hamilton\", \"Alex Albon\",\n",
        "        \"Isack Hadjar\", \"Fernando Alonso\", \"Yuki Tsunoda\", \"Lance Stroll\",\n",
        "        \"Pierre Gasly\", \"Esteban Ocon\", \"Nico Hulkenberg\", \"Liam Lawson\",\n",
        "        \"Jack Doohan\", \"Ollie Bearman\", \"Gabriel Bortoleto\", \"Carlos Sainz\"\n",
        "    ],\n",
        "    \"Miami2025SprintQualiRank\": list(range(1, 21))\n",
        "})\n",
        "data_2025_full = data_2025_full.merge(\n",
        "    sprint_quali_2025_miami[[\"Driver\", \"Miami2025SprintQualiRank\"]],\n",
        "    on=\"Driver\", how=\"left\"\n",
        ")"
      ],
      "metadata": {
        "id": "x2uuzkYVvyC0"
      },
      "execution_count": 9,
      "outputs": []
    },
    {
      "cell_type": "code",
      "source": [
        "# 2025 Miami Sprint Race\n",
        "sprint_2025_miami = pd.DataFrame({\n",
        "    \"Driver\": [\n",
        "        \"Lando Norris\", \"Oscar Piastri\", \"Lewis Hamilton\", \"George Russell\",\n",
        "        \"Lance Stroll\", \"Yuki Tsunoda\", \"Kimi Antonelli\", \"Pierre Gasly\",\n",
        "        \"Alex Albon\", \"Liam Lawson\", \"Ollie Bearman\", \"Jack Doohan\",\n",
        "        \"Gabriel Bortoleto\", \"Nico Hulkenberg\", \"Esteban Ocon\", \"Fernando Alonso\",\n",
        "        \"Max Verstappen\", \"Charles Leclerc\", \"Isack Hadjar\", \"Carlos Sainz\"\n",
        "    ],\n",
        "    \"Miami2025SprintRank\": list(range(1, 21))\n",
        "})\n",
        "data_2025_full = data_2025_full.merge(\n",
        "    sprint_2025_miami[[\"Driver\", \"Miami2025SprintRank\"]],\n",
        "    on=\"Driver\", how=\"left\"\n",
        ")"
      ],
      "metadata": {
        "id": "35D4O52ov236"
      },
      "execution_count": 10,
      "outputs": []
    },
    {
      "cell_type": "code",
      "source": [
        "# 2025 Miami Grand Prix Qualifying\n",
        "quali_2025_miami = pd.DataFrame({\n",
        "    \"Driver\": [\n",
        "        \"Max Verstappen\", \"Lando Norris\", \"Kimi Antonelli\", \"Oscar Piastri\",\n",
        "        \"George Russell\", \"Carlos Sainz\", \"Alex Albon\", \"Charles Leclerc\",\n",
        "        \"Esteban Ocon\", \"Yuki Tsunoda\", \"Isack Hadjar\", \"Lewis Hamilton\",\n",
        "        \"Gabriel Bortoleto\", \"Jack Doohan\", \"Liam Lawson\", \"Fernando Alonso\",\n",
        "        \"Lance Stroll\", \"Pierre Gasly\", \"Nico Hulkenberg\", \"Ollie Bearman\"\n",
        "    ],\n",
        "    \"Miami2025QualiRank\": list(range(1, 21))\n",
        "})\n",
        "data_2025_full = data_2025_full.merge(\n",
        "    quali_2025_miami[[\"Driver\", \"Miami2025QualiRank\"]],\n",
        "    on=\"Driver\", how=\"left\"\n",
        ")"
      ],
      "metadata": {
        "id": "ERwoYdyLv51u"
      },
      "execution_count": 11,
      "outputs": []
    },
    {
      "cell_type": "code",
      "source": [
        "# 2025 Season Races\n",
        "races_2025 = [\"Australia\", \"China\", \"Japan\", \"Saudi\"]\n",
        "for race in races_2025:\n",
        "    try:\n",
        "        session = fastf1.get_session(2025, race, 'R')\n",
        "        session.load()\n",
        "        results = session.results[[\"Abbreviation\", \"Position\"]].copy()\n",
        "        results.rename(columns={\"Abbreviation\": \"DriverCode\"}, inplace=True)\n",
        "        results[f\"{race}Rank\"] = pd.to_numeric(results[\"Position\"], errors='coerce').rank(method=\"first\").astype(int)\n",
        "        data_2025_full = data_2025_full.merge(results[[\"DriverCode\", f\"{race}Rank\"]], on=\"DriverCode\", how=\"left\")\n",
        "    except Exception as e:\n",
        "        print(f\"Skipping {race} 2025 (data unavailable): {e}\")\n",
        "data_2025_full[\"Season2025AvgRank\"] = data_2025_full[[f\"{race}Rank\" for race in races_2025]].mean(axis=1, skipna=True)"
      ],
      "metadata": {
        "id": "6JwuXTVev9G0"
      },
      "execution_count": null,
      "outputs": []
    },
    {
      "cell_type": "code",
      "source": [
        "# Features and target\n",
        "features = [\"Miami2024Rank\", \"Miami2025SprintQualiRank\", \"Miami2025SprintRank\", \"Miami2025QualiRank\", \"Season2025AvgRank\"]\n",
        "X_train = data_2025_full[features].fillna(20).astype(float)\n",
        "y_train = (\n",
        "    1.0 * (20 - data_2025_full[\"Miami2024Rank\"].fillna(20)) +\n",
        "    0.3 * (20 - data_2025_full[\"Miami2025SprintQualiRank\"].fillna(20)) +\n",
        "    1.5 * (20 - data_2025_full[\"Miami2025SprintRank\"].fillna(20)) +\n",
        "    7.0 * (20 - data_2025_full[\"Miami2025QualiRank\"].fillna(20)) +\n",
        "    3.0 * (20 - data_2025_full[\"Season2025AvgRank\"].fillna(20))\n",
        ") / 12.8\n",
        "# Scale features\n",
        "scaler = StandardScaler()\n",
        "X_train = scaler.fit_transform(X_train)\n",
        "X_pred = scaler.transform(data_2025_full[features].fillna(20).astype(float))"
      ],
      "metadata": {
        "id": "NKEps7o3wE15"
      },
      "execution_count": 37,
      "outputs": []
    },
    {
      "cell_type": "code",
      "source": [
        "# Model\n",
        "model = XGBRegressor(n_estimators=100, max_depth=3, learning_rate=0.05, random_state=42, objective='reg:squarederror', alpha=0.5, reg_lambda=0.5)\n",
        "model.fit(X_train, y_train)\n",
        "# Predict\n",
        "scores = model.predict(X_pred)\n",
        "data_2025_full[\"WinProbability\"] = 0.1 + 0.8 / (1 + np.exp(-3 * (scores - scores.mean()) / scores.std()))\n",
        "data_2025_full[\"PredictedWinner\"] = (data_2025_full[\"WinProbability\"] == data_2025_full[\"WinProbability\"].max()).astype(int)\n",
        "winner = data_2025_full[data_2025_full[\"PredictedWinner\"] == 1][\"Driver\"].values[0]"
      ],
      "metadata": {
        "id": "xjPtn7BnwIh5"
      },
      "execution_count": 38,
      "outputs": []
    },
    {
      "cell_type": "code",
      "source": [
        "# Output\n",
        "print(\"\\n✨ Feature Importances (2024 Miami + 2025 Season, Miami Sprint) ✨\")\n",
        "print(tabulate(pd.DataFrame({\"Feature\": features, \"Importance\": model.feature_importances_}),\n",
        "               headers=\"keys\", tablefmt=\"psql\", showindex=False))\n",
        "print(\"\\n🏆 Predicted 2025 Miami GP Winner Odds (Post-Quali, Sprint Included) 🏆\\n\")\n",
        "print(tabulate(data_2025_full[[\"Driver\", \"DriverNumber\", \"Miami2024Rank\", \"Miami2025SprintQualiRank\", \"Miami2025SprintRank\", \"Miami2025QualiRank\", \"Season2025AvgRank\", \"WinProbability\"]]\n",
        "               .sort_values(\"WinProbability\", ascending=False),\n",
        "               headers=[\"Driver\", \"No.\", \"2024 Miami Rank\", \"2025 Sprint Quali\", \"2025 Sprint Rank\", \"2025 Quali\", \"2025 Avg Rank\", \"Win Prob.\"],\n",
        "               tablefmt=\"fancy_grid\",\n",
        "               showindex=False,\n",
        "               floatfmt=(\"\", \"\", \".0f\", \".0f\", \".0f\", \".0f\", \".1f\", \".3f\")))\n",
        "print(f\"\\n🎯 Predicted Winner (Post-Quali, Sprint Included): {winner} 🎯\")"
      ],
      "metadata": {
        "colab": {
          "base_uri": "https://localhost:8080/"
        },
        "id": "B6qK7EvVwR1q",
        "outputId": "93805a74-056d-45b5-b138-d1c6bd44fbfe"
      },
      "execution_count": 39,
      "outputs": [
        {
          "output_type": "stream",
          "name": "stdout",
          "text": [
            "\n",
            "✨ Feature Importances (2024 Miami + 2025 Season, Miami Sprint) ✨\n",
            "+--------------------------+--------------+\n",
            "| Feature                  |   Importance |\n",
            "|--------------------------+--------------|\n",
            "| Miami2024Rank            |   0.0121761  |\n",
            "| Miami2025SprintQualiRank |   0.286622   |\n",
            "| Miami2025SprintRank      |   0.00611829 |\n",
            "| Miami2025QualiRank       |   0.522516   |\n",
            "| Season2025AvgRank        |   0.172567   |\n",
            "+--------------------------+--------------+\n",
            "\n",
            "🏆 Predicted 2025 Miami GP Winner Odds (Post-Quali, Sprint Included) 🏆\n",
            "\n",
            "╒═══════════════════╤═══════╤═══════════════════╤═════════════════════╤════════════════════╤══════════════╤═════════════════╤═════════════╕\n",
            "│ Driver            │   No. │   2024 Miami Rank │   2025 Sprint Quali │   2025 Sprint Rank │   2025 Quali │   2025 Avg Rank │   Win Prob. │\n",
            "╞═══════════════════╪═══════╪═══════════════════╪═════════════════════╪════════════════════╪══════════════╪═════════════════╪═════════════╡\n",
            "│ Lando Norris      │     4 │                 1 │                   3 │                  1 │            2 │             2.2 │       0.896 │\n",
            "├───────────────────┼───────┼───────────────────┼─────────────────────┼────────────────────┼──────────────┼─────────────────┼─────────────┤\n",
            "│ Max Verstappen    │     1 │                 2 │                   4 │                 17 │            1 │             2.2 │       0.894 │\n",
            "├───────────────────┼───────┼───────────────────┼─────────────────────┼────────────────────┼──────────────┼─────────────────┼─────────────┤\n",
            "│ Oscar Piastri     │    81 │                13 │                   2 │                  2 │            4 │             3.5 │       0.889 │\n",
            "├───────────────────┼───────┼───────────────────┼─────────────────────┼────────────────────┼──────────────┼─────────────────┼─────────────┤\n",
            "│ George Russell    │    63 │                 8 │                   5 │                  4 │            5 │             4.0 │       0.883 │\n",
            "├───────────────────┼───────┼───────────────────┼─────────────────────┼────────────────────┼──────────────┼─────────────────┼─────────────┤\n",
            "│ Kimi Antonelli    │    12 │               nan │                   1 │                  7 │            3 │             5.5 │       0.878 │\n",
            "├───────────────────┼───────┼───────────────────┼─────────────────────┼────────────────────┼──────────────┼─────────────────┼─────────────┤\n",
            "│ Alex Albon        │    23 │                18 │                   8 │                  9 │            7 │             7.5 │       0.764 │\n",
            "├───────────────────┼───────┼───────────────────┼─────────────────────┼────────────────────┼──────────────┼─────────────────┼─────────────┤\n",
            "│ Charles Leclerc   │    16 │                 3 │                   6 │                 18 │            8 │             8.2 │       0.720 │\n",
            "├───────────────────┼───────┼───────────────────┼─────────────────────┼────────────────────┼──────────────┼─────────────────┼─────────────┤\n",
            "│ Carlos Sainz      │    55 │                 5 │                  20 │                 20 │            6 │            12.5 │       0.648 │\n",
            "├───────────────────┼───────┼───────────────────┼─────────────────────┼────────────────────┼──────────────┼─────────────────┼─────────────┤\n",
            "│ Lewis Hamilton    │    44 │                 6 │                   7 │                  3 │           12 │            10.8 │       0.565 │\n",
            "├───────────────────┼───────┼───────────────────┼─────────────────────┼────────────────────┼──────────────┼─────────────────┼─────────────┤\n",
            "│ Yuki Tsunoda      │    22 │                 7 │                  11 │                  6 │           10 │            14.8 │       0.514 │\n",
            "├───────────────────┼───────┼───────────────────┼─────────────────────┼────────────────────┼──────────────┼─────────────────┼─────────────┤\n",
            "│ Esteban Ocon      │    31 │                10 │                  14 │                 15 │            9 │            12.5 │       0.496 │\n",
            "├───────────────────┼───────┼───────────────────┼─────────────────────┼────────────────────┼──────────────┼─────────────────┼─────────────┤\n",
            "│ Isack Hadjar      │     6 │               nan │                   9 │                 19 │           11 │            12.2 │       0.250 │\n",
            "├───────────────────┼───────┼───────────────────┼─────────────────────┼────────────────────┼──────────────┼─────────────────┼─────────────┤\n",
            "│ Lance Stroll      │    18 │                17 │                  12 │                  5 │           17 │            12.8 │       0.157 │\n",
            "├───────────────────┼───────┼───────────────────┼─────────────────────┼────────────────────┼──────────────┼─────────────────┼─────────────┤\n",
            "│ Gabriel Bortoleto │     5 │               nan │                  19 │                 13 │           13 │            16.8 │       0.154 │\n",
            "├───────────────────┼───────┼───────────────────┼─────────────────────┼────────────────────┼──────────────┼─────────────────┼─────────────┤\n",
            "│ Liam Lawson       │    30 │               nan │                  16 │                 10 │           15 │            14.0 │       0.152 │\n",
            "├───────────────────┼───────┼───────────────────┼─────────────────────┼────────────────────┼──────────────┼─────────────────┼─────────────┤\n",
            "│ Jack Doohan       │     7 │               nan │                  17 │                 12 │           14 │            16.0 │       0.148 │\n",
            "├───────────────────┼───────┼───────────────────┼─────────────────────┼────────────────────┼──────────────┼─────────────────┼─────────────┤\n",
            "│ Fernando Alonso   │    14 │                 9 │                  10 │                 16 │           16 │            14.0 │       0.146 │\n",
            "├───────────────────┼───────┼───────────────────┼─────────────────────┼────────────────────┼──────────────┼─────────────────┼─────────────┤\n",
            "│ Pierre Gasly      │    10 │                12 │                  13 │                  8 │           18 │            16.0 │       0.125 │\n",
            "├───────────────────┼───────┼───────────────────┼─────────────────────┼────────────────────┼──────────────┼─────────────────┼─────────────┤\n",
            "│ Nico Hulkenberg   │    27 │                11 │                  15 │                 14 │           19 │            13.2 │       0.119 │\n",
            "├───────────────────┼───────┼───────────────────┼─────────────────────┼────────────────────┼──────────────┼─────────────────┼─────────────┤\n",
            "│ Ollie Bearman     │    87 │               nan │                  18 │                 11 │           20 │            11.2 │       0.119 │\n",
            "╘═══════════════════╧═══════╧═══════════════════╧═════════════════════╧════════════════════╧══════════════╧═════════════════╧═════════════╛\n",
            "\n",
            "🎯 Predicted Winner (Post-Quali, Sprint Included): Lando Norris 🎯\n"
          ]
        }
      ]
    }
  ]
}